{
 "cells": [
  {
   "cell_type": "code",
   "execution_count": 18,
   "id": "94c980fc",
   "metadata": {},
   "outputs": [],
   "source": [
    "import matplotlib.pyplot as plt\n",
    "import numpy as np\n",
    "import pandas as pd\n",
    "from sklearn import linear_model\n",
    "from sklearn.model_selection import train_test_split\n",
    "%matplotlib inline"
   ]
  },
  {
   "cell_type": "code",
   "execution_count": 3,
   "id": "409b3b33",
   "metadata": {},
   "outputs": [],
   "source": [
    "df = pd.read_csv('placement.csv')"
   ]
  },
  {
   "cell_type": "code",
   "execution_count": null,
   "id": "e3f5c03d",
   "metadata": {},
   "outputs": [],
   "source": [
    "# all colomn is printed which is in data set\n",
    "df"
   ]
  },
  {
   "cell_type": "markdown",
   "id": "5c644976",
   "metadata": {},
   "source": [
    "# Checking Linearity way graph"
   ]
  },
  {
   "cell_type": "code",
   "execution_count": 10,
   "id": "dedd3bb7",
   "metadata": {},
   "outputs": [
    {
     "data": {
      "image/png": "[encoded data removed]",
      "text/plain": [
       "<Figure size 432x288 with 1 Axes>"
      ]
     },
     "metadata": {
      "needs_background": "light"
     },
     "output_type": "display_data"
    }
   ],
   "source": [
    "plt.scatter(df['year'],df['Placement percentage'])\n",
    "plt.title(\"Placement Ploat\")\n",
    "plt.xlim(2000,2020)\n",
    "plt.ylim(45,100)\n",
    "plt.xticks(np.arange(2000,2020,2))\n",
    "plt.xlabel(\"year\")\n",
    "plt.ylabel(\"placement\")\n",
    "plt.show()"
   ]
  },
  {
   "cell_type": "code",
   "execution_count": 16,
   "id": "3b1371c4",
   "metadata": {},
   "outputs": [],
   "source": [
    "X= df[['year']]\n",
    "Y=df[['Placement percentage']]"
   ]
  },
  {
   "cell_type": "code",
   "execution_count": 20,
   "id": "3f9630a1",
   "metadata": {},
   "outputs": [
    {
     "name": "stdout",
     "output_type": "stream",
     "text": [
      "Train - Predictors shape (16,)\n",
      "Test - Predictors shape (4,)\n",
      "Train - Target shape (16,)\n",
      "Test - Target shape (4,)\n",
      "Train - Predictors shape (16, 1)\n",
      "Test - Predictors shape (4, 1)\n",
      "Train - Target shape (16, 1)\n",
      "Test - Target shape (4, 1)\n"
     ]
    }
   ],
   "source": [
    "x_train, x_test, y_train, y_test = train_test_split(X, Y, test_size=0.2, random_state=42)\n",
    "x_train=x_train['year'].to_numpy()\n",
    "x_test=x_test['year'].to_numpy()\n",
    "y_train=y_train['Placement percentage'].to_numpy()\n",
    "y_test=y_test['Placement percentage'].to_numpy()\n",
    "\n",
    "print('Train - Predictors shape', x_train.shape)\n",
    "print('Test - Predictors shape', x_test.shape)\n",
    "print('Train - Target shape', y_train.shape)\n",
    "print('Test - Target shape', y_test.shape)\n",
    "\n",
    "x_train = np.reshape(x_train, (-1,1))\n",
    "x_test = np.reshape(x_test, (-1,1))\n",
    "y_train = np.reshape(y_train, (-1,1))\n",
    "y_test = np.reshape(y_test, (-1,1))\n",
    "\n",
    "\n",
    "print('Train - Predictors shape', x_train.shape)\n",
    "print('Test - Predictors shape', x_test.shape)\n",
    "print('Train - Target shape', y_train.shape)\n",
    "print('Test - Target shape', y_test.shape)\n"
   ]
  },
  {
   "cell_type": "markdown",
   "id": "fb1e6e6b",
   "metadata": {},
   "source": [
    "# Linear Regression using normal equaltions"
   ]
  },
  {
   "cell_type": "code",
   "execution_count": 21,
   "id": "a00617c9",
   "metadata": {},
   "outputs": [],
   "source": [
    "def theta_calc(x_train, y_train): # calculate co-efficient\n",
    "    #Initializing all variables\n",
    "    n_data = x_train.shape[0]\n",
    "    \n",
    "    bias = np.ones((n_data,1))\n",
    "    x_train_b = np.append(bias, x_train, axis=1)\n",
    "    \n",
    "    theta_1 = np.linalg.inv(np.dot(x_train_b.T,x_train_b))\n",
    "    theta_2 = np.dot(theta_1, x_train_b.T)\n",
    "    theta = np.dot(theta_2,y_train)\n",
    "    \n",
    "    return theta"
   ]
  },
  {
   "cell_type": "code",
   "execution_count": 22,
   "id": "643bb8a5",
   "metadata": {},
   "outputs": [],
   "source": [
    "def predict_func(slope,intercept,x_test):\n",
    "    #\n",
    "    pred = []\n",
    "    n_data = x_test.shape[0]\n",
    "    for i in range(n_data):\n",
    "\n",
    "        #pred.append((slope * x_test.iloc[i]['TV']) + intercept)\n",
    "        pred.append((slope * x_test[i] + intercept))\n",
    "             \n",
    "    return pred"
   ]
  },
  {
   "cell_type": "code",
   "execution_count": 23,
   "id": "f5c40012",
   "metadata": {},
   "outputs": [],
   "source": [
    "def mse_calc(prediction, y_test):\n",
    "    #\n",
    "    total_data = len(prediction)\n",
    "    error = 0\n",
    "    error = (np.sum((prediction - y_test)**2))/total_data\n",
    "    return error"
   ]
  },
  {
   "cell_type": "code",
   "execution_count": 24,
   "id": "69183e10",
   "metadata": {},
   "outputs": [],
   "source": [
    "def rsq(prediction, y_test):\n",
    "    #\n",
    "    total_data = len(prediction)\n",
    "    #Average of total prediction \n",
    "    y_avg = np.sum(y_test)/total_data\n",
    "    #total sum of square error\n",
    "    tot_err = np.sum((y_test-y_avg)**2)\n",
    "    #total sum of squared error of residuals\n",
    "    res_err = np.sum((y_test-prediction)**2)\n",
    "    #ssr = np.sum((prediction-y_avg)**2)\n",
    "    #r2= (ssr/tot_err)\n",
    "    r2 = 1 - (res_err / tot_err)\n",
    "    return r2"
   ]
  },
  {
   "cell_type": "code",
   "execution_count": 25,
   "id": "ee4c619e",
   "metadata": {},
   "outputs": [
    {
     "name": "stdout",
     "output_type": "stream",
     "text": [
      "Intercept of the model [-3374.38063633]\n",
      "Slope of the model [1.71934851]\n"
     ]
    }
   ],
   "source": [
    "#Finding optimal theta value using normal equations\n",
    "theta = theta_calc(x_train, y_train)\n",
    "intercept = theta[0]\n",
    "slope = theta[1]\n",
    "print('Intercept of the model', intercept)\n",
    "print('Slope of the model', slope)"
   ]
  },
  {
   "cell_type": "code",
   "execution_count": 27,
   "id": "4330afec",
   "metadata": {},
   "outputs": [
    {
     "name": "stdout",
     "output_type": "stream",
     "text": [
      "R squared value 0.5156402694637567\n"
     ]
    }
   ],
   "source": [
    "#Prediction calculation\n",
    "prediction = predict_func(slope, intercept, x_test)\n",
    "\n",
    "#R-square calculation\n",
    "r2_val = rsq(prediction, y_test)\n",
    "print('R squared value', r2_val)"
   ]
  },
  {
   "cell_type": "code",
   "execution_count": 28,
   "id": "8fbb07cc",
   "metadata": {},
   "outputs": [
    {
     "name": "stdout",
     "output_type": "stream",
     "text": [
      "Mean squared error of the model 144.5813795650686\n"
     ]
    }
   ],
   "source": [
    "#MSE calculation\n",
    "pred_df = pd.DataFrame(prediction)\n",
    "pred_df.columns=['placement']\n",
    "error =  mse_calc(prediction, y_test)\n",
    "error =  mse_calc(prediction, y_test)\n",
    "\n",
    "print('Mean squared error of the model', error)"
   ]
  },
  {
   "cell_type": "code",
   "execution_count": 31,
   "id": "a26863c8",
   "metadata": {},
   "outputs": [
    {
     "name": "stdout",
     "output_type": "stream",
     "text": [
      "Mean squared error of the model:- placement    144.58138\n",
      "dtype: float64\n",
      "R squared value:- placement    0.51564\n",
      "dtype: float64\n"
     ]
    }
   ],
   "source": [
    "len(prediction)\n",
    "type(prediction)\n",
    "type(y_test)\n",
    "#y_test.head()\n",
    "\n",
    "pred_df.head()\n",
    "#y_test.head()\n",
    "error =  mse_calc(pred_df, y_test)\n",
    "print('Mean squared error of the model:-', error)\n",
    "\n",
    "r2_val = rsq(pred_df, y_test)\n",
    "print('R squared value:-', r2_val)"
   ]
  },
  {
   "cell_type": "code",
   "execution_count": null,
   "id": "461ae201",
   "metadata": {},
   "outputs": [],
   "source": []
  }
 ],
 "metadata": {
  "kernelspec": {
   "display_name": "Python 3 (ipykernel)",
   "language": "python",
   "name": "python3"
  },
  "language_info": {
   "codemirror_mode": {
    "name": "ipython",
    "version": 3
   },
   "file_extension": ".py",
   "mimetype": "text/x-python",
   "name": "python",
   "nbconvert_exporter": "python",
   "pygments_lexer": "ipython3",
   "version": "3.10.1"
  }
 },
 "nbformat": 4,
 "nbformat_minor": 5
}
